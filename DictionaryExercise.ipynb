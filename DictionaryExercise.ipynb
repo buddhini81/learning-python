{
  "nbformat": 4,
  "nbformat_minor": 0,
  "metadata": {
    "colab": {
      "provenance": [],
      "authorship_tag": "ABX9TyNItzqdrzmaHOPSrKvd5Ae2",
      "include_colab_link": true
    },
    "kernelspec": {
      "name": "python3",
      "display_name": "Python 3"
    },
    "language_info": {
      "name": "python"
    }
  },
  "cells": [
    {
      "cell_type": "markdown",
      "metadata": {
        "id": "view-in-github",
        "colab_type": "text"
      },
      "source": [
        "<a href=\"https://colab.research.google.com/github/buddhini81/learning-python/blob/main/DictionaryExercise.ipynb\" target=\"_parent\"><img src=\"https://colab.research.google.com/assets/colab-badge.svg\" alt=\"Open In Colab\"/></a>"
      ]
    },
    {
      "cell_type": "markdown",
      "source": [
        "Dictionaries"
      ],
      "metadata": {
        "id": "O2-LxKvcLHlB"
      }
    },
    {
      "cell_type": "code",
      "execution_count": null,
      "metadata": {
        "colab": {
          "base_uri": "https://localhost:8080/"
        },
        "id": "sUUXcRK8LDLu",
        "outputId": "c30fbdf6-610f-4067-ce80-d170ad01bfcf"
      },
      "outputs": [
        {
          "output_type": "stream",
          "name": "stdout",
          "text": [
            "Charlie's score is  78\n"
          ]
        }
      ],
      "source": [
        "# Here is your raw data\n",
        "student_scores = [\n",
        "    (\"Alice\", 88),\n",
        "    (\"Bob\", 92),\n",
        "    (\"Charlie\", 78),\n",
        "    (\"David\", 95)\n",
        "]\n",
        "\n",
        "\n",
        "student_grades = {}\n",
        "\n",
        "for item in student_scores:\n",
        "  name, score = item\n",
        "  student_grades[name] = score\n",
        "\n",
        "student_grades\n",
        "\n",
        "print(\"Charlie's score is \", student_grades['Charlie'])\n"
      ]
    },
    {
      "cell_type": "code",
      "source": [
        "# Here is your raw data\n",
        "sold_items = [\"apple\", \"banana\", \"apple\", \"orange\", \"banana\", \"apple\"]\n",
        "item_prices = {\"apple\": 0.50, \"banana\": 0.75, \"orange\": 0.60}\n",
        "\n",
        "item_counts = {}\n",
        "\n",
        "for item in sold_items:\n",
        "  missing_value = item_counts.get(item, 'N/A')\n",
        "  if missing_value == 'N/A':\n",
        "    item_counts[item] = 1\n",
        "  else:\n",
        "    count = item_counts[item]\n",
        "    item_counts[item] = count + 1\n",
        "\n",
        "daily_revenue = {}\n",
        "\n",
        "for item in item_prices:\n",
        "  amount = item_counts[item]\n",
        "  price = item_prices[item]\n",
        "  missing_value = daily_revenue.get(item, 'N/A')\n",
        "  if missing_value == 'N/A':\n",
        "    daily_revenue[item] = amount * price\n",
        "  else:\n",
        "    total = daily_revenue[item] + (amount * price)\n",
        "    daily_revenue[item] = total\n",
        "\n",
        "print(daily_revenue)"
      ],
      "metadata": {
        "colab": {
          "base_uri": "https://localhost:8080/"
        },
        "id": "cTyZOiuYejt-",
        "outputId": "8ad7c813-4d5c-46d5-f57f-820166da09cf"
      },
      "execution_count": null,
      "outputs": [
        {
          "output_type": "stream",
          "name": "stdout",
          "text": [
            "{'apple': 1.5, 'banana': 1.5, 'orange': 0.6}\n"
          ]
        }
      ]
    },
    {
      "cell_type": "code",
      "source": [
        "# Here is your raw data\n",
        "student_grades = {\n",
        "    \"Alice\": [85, 90, 78],\n",
        "    \"Bob\": [65, 75, 68],\n",
        "    \"Charlie\": [92, 88, 95],\n",
        "    \"David\": [55, 60, 62]\n",
        "}\n",
        "\n",
        "student_results = {}\n",
        "\n",
        "for item in student_grades:\n",
        "  marks_list = student_grades[item]\n",
        "  average = sum(marks_list)/len(marks_list)\n",
        "  if average >= 70:\n",
        "    student_results[item] = (average, \"Passed\")\n",
        "  else:\n",
        "    student_results[item] = (average, \"Failed\")\n",
        "\n",
        "student_results"
      ],
      "metadata": {
        "colab": {
          "base_uri": "https://localhost:8080/"
        },
        "id": "3je2JedrtD7S",
        "outputId": "cda91833-46b1-45f4-ce4b-fbff14ba2d6c"
      },
      "execution_count": null,
      "outputs": [
        {
          "output_type": "execute_result",
          "data": {
            "text/plain": [
              "{'Alice': (84.33333333333333, 'Passed'),\n",
              " 'Bob': (69.33333333333333, 'Failed'),\n",
              " 'Charlie': (91.66666666666667, 'Passed'),\n",
              " 'David': (59.0, 'Failed')}"
            ]
          },
          "metadata": {},
          "execution_count": 27
        }
      ]
    },
    {
      "cell_type": "code",
      "source": [
        "# Here is your raw data\n",
        "product_prices = {\n",
        "    \"apple\": 1.00,\n",
        "    \"banana\": 0.50,\n",
        "    \"orange\": 0.75,\n",
        "    \"milk\": 2.50\n",
        "}\n",
        "\n",
        "orders = {\n",
        "    \"order_101\": {\"apple\": 5, \"banana\": 2},\n",
        "    \"order_102\": {\"orange\": 3, \"milk\": 1},\n",
        "    \"order_103\": {\"apple\": 10, \"orange\": 5}\n",
        "}\n",
        "\n",
        "total_revenue = 0\n",
        "\n",
        "\n",
        "for order in orders:\n",
        "  items_in_order = orders[order]\n",
        "  for item in items_in_order:\n",
        "    quantity = items_in_order[item]\n",
        "    price = product_prices[item]\n",
        "    total_revenue =  total_revenue + (quantity * price)\n",
        "\n",
        "total_revenue\n"
      ],
      "metadata": {
        "colab": {
          "base_uri": "https://localhost:8080/"
        },
        "id": "uhSz23_dx40u",
        "outputId": "0001aa82-7a82-46ea-da90-5f934e33aa42"
      },
      "execution_count": null,
      "outputs": [
        {
          "output_type": "execute_result",
          "data": {
            "text/plain": [
              "24.5"
            ]
          },
          "metadata": {},
          "execution_count": 53
        }
      ]
    }
  ]
}