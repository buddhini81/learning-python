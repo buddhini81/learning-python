{
  "nbformat": 4,
  "nbformat_minor": 0,
  "metadata": {
    "colab": {
      "provenance": [],
      "authorship_tag": "ABX9TyP7lfBlnjZDo+N4PFtKIDjo",
      "include_colab_link": true
    },
    "kernelspec": {
      "name": "python3",
      "display_name": "Python 3"
    },
    "language_info": {
      "name": "python"
    }
  },
  "cells": [
    {
      "cell_type": "markdown",
      "metadata": {
        "id": "view-in-github",
        "colab_type": "text"
      },
      "source": [
        "<a href=\"https://colab.research.google.com/github/buddhini81/learning-python/blob/main/ListExercises.ipynb\" target=\"_parent\"><img src=\"https://colab.research.google.com/assets/colab-badge.svg\" alt=\"Open In Colab\"/></a>"
      ]
    },
    {
      "cell_type": "markdown",
      "source": [
        "Lists"
      ],
      "metadata": {
        "id": "mWLNT29-NMWJ"
      }
    },
    {
      "cell_type": "code",
      "execution_count": null,
      "metadata": {
        "colab": {
          "base_uri": "https://localhost:8080/"
        },
        "id": "o39RqVuFJ9PP",
        "outputId": "e9dfc67f-e613-4df1-fd0c-1e6a36381e17"
      },
      "outputs": [
        {
          "output_type": "stream",
          "name": "stdout",
          "text": [
            "Total unique items sold: 4\n",
            "Total sales: 245.75\n"
          ]
        }
      ],
      "source": [
        "# Here is your raw data\n",
        "sales_data = [100.50, 20.00, None, 50.00, 100.50, 75.25, None, 20.00]\n",
        "\n",
        "# 1. Remove None values\n",
        "cleaned_data = [x for x in sales_data if x is not None]\n",
        "\n",
        "# 2. Use a set to remove duplicates and then convert back to a list\n",
        "unique_sales = list(set(cleaned_data))\n",
        "\n",
        "# 3. Count how many unique items were sold\n",
        "total_unique_items = len(unique_sales)\n",
        "\n",
        "# 4. Calculate the sum of all sales after cleaning\n",
        "total_sales = sum(unique_sales)\n",
        "\n",
        "print(f\"Total unique items sold: {total_unique_items}\")\n",
        "print(f\"Total sales: {total_sales}\")"
      ]
    },
    {
      "cell_type": "code",
      "source": [
        "weekly_temperatures_celsius = [18, 22, 25, 19, 21, 28, 17]\n",
        "\n",
        "hot_temperatures_celsius = [temp for temp in weekly_temperatures_celsius if temp > 20]\n",
        "\n",
        "hot_temperatures_fahrenheit = [(temp * 9/5) + 32 for temp in hot_temperatures_celsius]\n",
        "\n",
        "hot_temperatures_fahrenheit\n",
        "\n",
        "\n",
        "\n",
        "\n"
      ],
      "metadata": {
        "colab": {
          "base_uri": "https://localhost:8080/"
        },
        "id": "gCKtXfQhQ1id",
        "outputId": "2ef0ab91-6b6a-49d2-ae6b-fcfda8660a4a"
      },
      "execution_count": null,
      "outputs": [
        {
          "output_type": "execute_result",
          "data": {
            "text/plain": [
              "[71.6, 77.0, 69.8, 82.4]"
            ]
          },
          "metadata": {},
          "execution_count": 9
        }
      ]
    },
    {
      "cell_type": "code",
      "source": [
        "# Here is your raw data\n",
        "user_statuses = [\"active\", \"offline\", \"away\", \"active\", \"online\", \"away\"]\n",
        "\n",
        "def update_status(status_list, old_status, new_status):\n",
        "    new_statuses = [new_status if status == old_status else status for status in status_list]\n",
        "    return new_statuses\n",
        "\n",
        "updated_list = update_status(user_statuses, \"away\", \"online\")\n",
        "print(updated_list)"
      ],
      "metadata": {
        "colab": {
          "base_uri": "https://localhost:8080/"
        },
        "id": "EVhYHQVqTuNN",
        "outputId": "638cb739-09f4-4305-a8c4-69f077b6efa9"
      },
      "execution_count": null,
      "outputs": [
        {
          "output_type": "stream",
          "name": "stdout",
          "text": [
            "['active', 'offline', 'online', 'active', 'online', 'online']\n"
          ]
        }
      ]
    },
    {
      "cell_type": "code",
      "source": [
        "# Here is your raw data\n",
        "daily_temperatures = [25, 26, 23, 27, 25, 28, 29, 26, 24, 23, 25, 26, 27, 28, 29, 30, 31, 29, 28, 27]\n",
        "\n",
        "def analyze_temperatures(temp_list) :\n",
        "    average_temp = sum(daily_temperatures)/len(daily_temperatures)\n",
        "    higest_temp = max(daily_temperatures)\n",
        "    lowest_temp = min(daily_temperatures)\n",
        "    return (average_temp, higest_temp,lowest_temp )\n",
        "\n",
        "analyzed_data = analyze_temperatures(daily_temperatures)\n",
        "\n",
        "print(f\"Average: {analyzed_data[0]:.2f}\")\n",
        "print(f\"Highest: {analyzed_data[1]}\")\n",
        "print(f\"Lowest: {analyzed_data[2]}\")\n"
      ],
      "metadata": {
        "colab": {
          "base_uri": "https://localhost:8080/"
        },
        "id": "URuTnlRcXmxW",
        "outputId": "48afacea-0ffc-4c6f-9283-9e5bc3eae8c7"
      },
      "execution_count": null,
      "outputs": [
        {
          "output_type": "stream",
          "name": "stdout",
          "text": [
            "Average: 26.80\n",
            "Highest: 31\n",
            "Lowest: 23\n"
          ]
        }
      ]
    },
    {
      "cell_type": "code",
      "source": [
        "# Here is your raw data\n",
        "favorite_colors = [\"blue\", \"red\", \"green\", \"blue\", \"yellow\", \"red\", \"blue\", \"purple\"]\n",
        "\n",
        "def count_frequencies(input_list):\n",
        "  color_counts = {}\n",
        "  for color in input_list:\n",
        "    if color in color_counts:\n",
        "      count = color_counts[color]\n",
        "      color_counts[color] = count + 1\n",
        "    else:\n",
        "      color_counts[color] = 1\n",
        "\n",
        "  return color_counts\n",
        "\n",
        "color_counts = count_frequencies(favorite_colors)\n",
        "\n",
        "print(color_counts)"
      ],
      "metadata": {
        "colab": {
          "base_uri": "https://localhost:8080/"
        },
        "id": "YGILFT_XouxC",
        "outputId": "7483c494-762f-47a2-ab3a-8f2671a40cf4"
      },
      "execution_count": null,
      "outputs": [
        {
          "output_type": "stream",
          "name": "stdout",
          "text": [
            "{'blue': 3, 'red': 2, 'green': 1, 'yellow': 1, 'purple': 1}\n"
          ]
        }
      ]
    },
    {
      "cell_type": "code",
      "source": [
        "# Here is your raw data\n",
        "todo_list = [\n",
        "    {'task': 'Buy groceries', 'completed': False},\n",
        "    {'task': 'Clean the house', 'completed': True},\n",
        "    {'task': 'Walk the dog', 'completed': False},\n",
        "    {'task': 'Pay bills', 'completed': False}\n",
        "]\n",
        "\n",
        "\n",
        "def mark_task_completed(task_list, task_name):\n",
        "  for index, value in enumerate(task_list):\n",
        "    #print(item['completed'])\n",
        "    if(value['task'] == task_name):\n",
        "      todo_list[index]['completed'] = True\n",
        "\n",
        "\n",
        "def get_incomplete_tasks(task_list):\n",
        "  incomplete_tasks = []\n",
        "  for item in task_list:\n",
        "    if item['completed'] == False:\n",
        "      incomplete_tasks.append(item['task'])\n",
        "  return incomplete_tasks\n",
        "\n",
        "mark_task_completed(todo_list, 'Walk the dog')\n",
        "remaining_tasks = get_incomplete_tasks(todo_list)\n",
        "\n",
        "print(remaining_tasks)\n"
      ],
      "metadata": {
        "colab": {
          "base_uri": "https://localhost:8080/"
        },
        "id": "CiV-FWRRzH3-",
        "outputId": "cd295101-434f-4935-823d-95c67193d07c"
      },
      "execution_count": null,
      "outputs": [
        {
          "output_type": "stream",
          "name": "stdout",
          "text": [
            "['Buy groceries', 'Pay bills']\n"
          ]
        }
      ]
    }
  ]
}