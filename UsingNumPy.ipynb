{
  "nbformat": 4,
  "nbformat_minor": 0,
  "metadata": {
    "colab": {
      "provenance": [],
      "authorship_tag": "ABX9TyMTaUmvx20AAEjoF2wUzrcI",
      "include_colab_link": true
    },
    "kernelspec": {
      "name": "python3",
      "display_name": "Python 3"
    },
    "language_info": {
      "name": "python"
    }
  },
  "cells": [
    {
      "cell_type": "markdown",
      "metadata": {
        "id": "view-in-github",
        "colab_type": "text"
      },
      "source": [
        "<a href=\"https://colab.research.google.com/github/buddhini81/learning-python/blob/main/UsingNumPy.ipynb\" target=\"_parent\"><img src=\"https://colab.research.google.com/assets/colab-badge.svg\" alt=\"Open In Colab\"/></a>"
      ]
    },
    {
      "cell_type": "code",
      "execution_count": null,
      "metadata": {
        "colab": {
          "base_uri": "https://localhost:8080/"
        },
        "id": "xte61rY8Pv6A",
        "outputId": "d5b83104-41fa-4c23-f434-f3fa1a7208b8"
      },
      "outputs": [
        {
          "output_type": "stream",
          "name": "stdout",
          "text": [
            "[20 22 25 27 21 23 30 26 24 28]\n",
            "[15 20 35 45 18 25 60 40 30 50]\n"
          ]
        }
      ],
      "source": [
        "import numpy as np\n",
        "\n",
        "#Create Arrays\n",
        "\n",
        "temperatures = np.array([20,22,25,27,21,23,30,26,24,28])\n",
        "sales = np.array([15,20,35,45,18,25,60,40,30,50])\n",
        "\n",
        "print(temperatures)\n",
        "print(sales)"
      ]
    },
    {
      "cell_type": "code",
      "source": [
        "#Calculate Statistics\n",
        "avg_temp = temperatures.mean()\n",
        "print(avg_temp)\n",
        "\n",
        "max_sales = sales.max()\n",
        "print(max_sales)\n"
      ],
      "metadata": {
        "colab": {
          "base_uri": "https://localhost:8080/"
        },
        "id": "EjCNmQlJQ6so",
        "outputId": "98d3e723-7b4b-4f17-ec1c-993cdbc7b6a7"
      },
      "execution_count": null,
      "outputs": [
        {
          "output_type": "stream",
          "name": "stdout",
          "text": [
            "24.6\n",
            "60\n"
          ]
        }
      ]
    },
    {
      "cell_type": "code",
      "source": [
        "#Reshape\n",
        "data_matrix = np.column_stack((temperatures,sales))\n",
        "\n",
        "print(data_matrix)"
      ],
      "metadata": {
        "colab": {
          "base_uri": "https://localhost:8080/"
        },
        "id": "HKgorHlSR0-1",
        "outputId": "dbda2ce3-b32a-40bd-a355-b7221cfd5e71"
      },
      "execution_count": null,
      "outputs": [
        {
          "output_type": "stream",
          "name": "stdout",
          "text": [
            "[[20 15]\n",
            " [22 20]\n",
            " [25 35]\n",
            " [27 45]\n",
            " [21 18]\n",
            " [23 25]\n",
            " [30 60]\n",
            " [26 40]\n",
            " [24 30]\n",
            " [28 50]]\n"
          ]
        }
      ]
    },
    {
      "cell_type": "code",
      "source": [
        "#boolean indexing\n",
        "\n",
        "mask = sales > 30\n",
        "\n",
        "temp_on_high_sales_days = temperatures[mask]\n",
        "\n",
        "print(temp_on_high_sales_days)\n",
        "\n",
        "mask2 = temperatures > 25\n",
        "sales_on_hot_days = sales[mask2]\n",
        "print(sales_on_hot_days)\n",
        "\n",
        "x = data_matrix[(mask2) & (mask)]\n",
        "print(x)"
      ],
      "metadata": {
        "colab": {
          "base_uri": "https://localhost:8080/"
        },
        "id": "YaEGRjxrV74L",
        "outputId": "0d053f9c-6ec1-42e8-adb0-61a8389a2ed7"
      },
      "execution_count": null,
      "outputs": [
        {
          "output_type": "stream",
          "name": "stdout",
          "text": [
            "[25 27 30 26 28]\n",
            "[45 60 40 50]\n",
            "[[27 45]\n",
            " [30 60]\n",
            " [26 40]\n",
            " [28 50]]\n"
          ]
        }
      ]
    },
    {
      "cell_type": "code",
      "source": [
        "#Data Generation and Initial Calculations\n",
        "#Create a NumPy array named closing_prices containing 20 random floating-point numbers between 100.0 and 150.0. (Hint: Use np.random.uniform).\n",
        "closing_prices = np.random.uniform(100.0, 150.0, 20)\n",
        "\n",
        "print(closing_prices)\n",
        "\n",
        "#Calculate the daily price change (return) by subtracting yesterday's price from today's price. Store this in an array called daily_returns.\n",
        "daily_returns = np.diff(closing_prices)\n",
        "print(daily_returns)\n",
        "\n",
        "#Calculate the cumulative sum of the daily_returns array and store it in cumulative_change\n",
        "cumulative_change = np.cumsum(daily_returns)\n",
        "print(cumulative_change)"
      ],
      "metadata": {
        "colab": {
          "base_uri": "https://localhost:8080/"
        },
        "id": "ugsjlwguZWIN",
        "outputId": "37b55205-7154-4aaa-ee9d-fd73ae004553"
      },
      "execution_count": null,
      "outputs": [
        {
          "output_type": "stream",
          "name": "stdout",
          "text": [
            "[133.74074289 140.63601852 106.37860709 145.55742025 123.00061551\n",
            " 114.08889039 125.76637837 128.67926582 127.85326443 135.95110602\n",
            " 136.05561543 139.38385441 127.29529188 110.76465799 109.03165247\n",
            " 127.2659866  115.06320703 136.21416307 125.45982767 101.38264384]\n",
            "[  6.89527564 -34.25741143  39.17881315 -22.55680473  -8.91172513\n",
            "  11.67748799   2.91288745  -0.8260014    8.09784159   0.10450941\n",
            "   3.32823898 -12.08856253 -16.53063389  -1.73300553  18.23433413\n",
            " -12.20277957  21.15095604 -10.75433539 -24.07718383]\n",
            "[  6.89527564 -27.36213579  11.81667736 -10.74012737 -19.6518525\n",
            "  -7.97436451  -5.06147706  -5.88747846   2.21036313   2.31487254\n",
            "   5.64311152  -6.445451   -22.97608489 -24.70909042  -6.47475629\n",
            " -18.67753586   2.47342018  -8.28091521 -32.35809905]\n"
          ]
        }
      ]
    },
    {
      "cell_type": "code",
      "source": [
        "#Advanced Indexing and Analysis\n",
        "#Use boolean indexing on the daily_returns array to find out how many days the stock price increased (i.e., the return was positive).\n",
        "\n",
        "#method 1\n",
        "positive_days = [r for r in daily_returns if r > 0]\n",
        "\n",
        "print(len(positive_days))\n",
        "\n",
        "#method 2\n",
        "num_positive_days = (daily_returns > 0).sum()\n",
        "\n",
        "print(num_positive_days)\n",
        "\n",
        "#Find the indices (positions) of the top 5 largest positive daily returns.\n",
        "\n",
        "# np.argsort returns indices sorted by value (ascending)\n",
        "# [-5:] gets the last 5 indices (the largest values)\n",
        "# [::-1] reverses that slice to show them from largest to smallest return\n",
        "top_5_indices = np.argsort(daily_returns)[-5:][::-1]\n",
        "top_five_largest_positive_gains = daily_returns[top_5_indices]\n",
        "\n",
        "print(top_five_largest_positive_gains)\n",
        "\n",
        "#Use the indices from the daily_returns array to find the closing price on the day before the single largest negative drop (i.e., the index of the minimum value in daily_returns)\n",
        "worst_day_index = np.argmin(daily_returns)\n",
        "price_before_worst_day = closing_prices[worst_day_index]\n",
        "\n",
        "print(price_before_worst_day)"
      ],
      "metadata": {
        "colab": {
          "base_uri": "https://localhost:8080/"
        },
        "id": "tXtYqZqobggn",
        "outputId": "102a5f6a-c66c-4187-9d8e-f565d14d0f9c"
      },
      "execution_count": null,
      "outputs": [
        {
          "output_type": "stream",
          "name": "stdout",
          "text": [
            "9\n",
            "9\n",
            "[39.17881315 21.15095604 18.23433413 11.67748799  8.09784159]\n",
            "140.63601852178456\n"
          ]
        }
      ]
    },
    {
      "cell_type": "code",
      "source": [
        "import numpy as np\n",
        "\n",
        "#Create a 1×5 array filled with zeros.\n",
        "array1 = np.zeros(5)\n",
        "array1\n",
        "\n",
        "#Create a 3×3 array filled with ones.\n",
        "array2 = np.ones((3,3))\n",
        "array2"
      ],
      "metadata": {
        "id": "XSjMVzO6kg44",
        "outputId": "6eae766a-f27c-4257-9cd3-ef869f538c46",
        "colab": {
          "base_uri": "https://localhost:8080/"
        }
      },
      "execution_count": 6,
      "outputs": [
        {
          "output_type": "execute_result",
          "data": {
            "text/plain": [
              "array([[1., 1., 1.],\n",
              "       [1., 1., 1.],\n",
              "       [1., 1., 1.]])"
            ]
          },
          "metadata": {},
          "execution_count": 6
        }
      ]
    }
  ]
}