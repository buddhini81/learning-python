{
  "nbformat": 4,
  "nbformat_minor": 0,
  "metadata": {
    "colab": {
      "provenance": [],
      "authorship_tag": "ABX9TyPYkuGzuTQWIeIuzv1yBFGo",
      "include_colab_link": true
    },
    "kernelspec": {
      "name": "python3",
      "display_name": "Python 3"
    },
    "language_info": {
      "name": "python"
    }
  },
  "cells": [
    {
      "cell_type": "markdown",
      "metadata": {
        "id": "view-in-github",
        "colab_type": "text"
      },
      "source": [
        "<a href=\"https://colab.research.google.com/github/buddhini81/learning-python/blob/main/UsingTuples.ipynb\" target=\"_parent\"><img src=\"https://colab.research.google.com/assets/colab-badge.svg\" alt=\"Open In Colab\"/></a>"
      ]
    },
    {
      "cell_type": "code",
      "execution_count": 5,
      "metadata": {
        "colab": {
          "base_uri": "https://localhost:8080/"
        },
        "id": "n3cPNO-8IjD8",
        "outputId": "59ab92c7-ea63-4c94-c625-f0987c707b7f"
      },
      "outputs": [
        {
          "output_type": "stream",
          "name": "stdout",
          "text": [
            "Name :  Alice Smith Grade :  85\n",
            "Name :  Bob Johnson Grade :  92\n",
            "Name :  Charlie Brown Grade :  78\n",
            "Name :  Diana Prince Grade :  95\n",
            "Name :  Ethan Hunt Grade :  88\n",
            "Name :  Fiona Glenanne Grade :  75\n"
          ]
        }
      ],
      "source": [
        "# Access and Print\n",
        "\n",
        "student_records = [\n",
        "    (101, \"Alice Smith\", 85, \"Computer Science\"),\n",
        "    (102, \"Bob Johnson\", 92, \"Engineering\"),\n",
        "    (103, \"Charlie Brown\", 78, \"Computer Science\"),\n",
        "    (104, \"Diana Prince\", 95, \"Arts\"),\n",
        "    (105, \"Ethan Hunt\", 88, \"Engineering\"),\n",
        "    (106, \"Fiona Glenanne\", 75, \"Computer Science\"),\n",
        "]\n",
        "\n",
        "for record in student_records:\n",
        "  print(\"Name : \", record[1], \"Grade : \", record[2])"
      ]
    },
    {
      "cell_type": "code",
      "source": [
        "def get_students_by_major(records, major_name):\n",
        "  filtered_list = [item for item in records if item[3] == major_name]\n",
        "  return filtered_list\n",
        "\n",
        "get_students_by_major(student_records, \"Computer Science\")"
      ],
      "metadata": {
        "colab": {
          "base_uri": "https://localhost:8080/"
        },
        "id": "scVmjvT3Jmbs",
        "outputId": "b5a81b85-872b-419b-9418-a15f73c85a91"
      },
      "execution_count": 6,
      "outputs": [
        {
          "output_type": "execute_result",
          "data": {
            "text/plain": [
              "[(101, 'Alice Smith', 85, 'Computer Science'),\n",
              " (103, 'Charlie Brown', 78, 'Computer Science'),\n",
              " (106, 'Fiona Glenanne', 75, 'Computer Science')]"
            ]
          },
          "metadata": {},
          "execution_count": 6
        }
      ]
    },
    {
      "cell_type": "code",
      "source": [
        "\n",
        "def calculate_average_grade(records):\n",
        "  sum = 0\n",
        "  average = 0\n",
        "  for record in records:\n",
        "    sum = sum + record[2]\n",
        "  average = sum / len(records)\n",
        "  return average\n",
        "\n",
        "average_grade_for_all = calculate_average_grade(student_records)\n",
        "print(\"Average grade for all students : \" , average_grade_for_all)\n",
        "\n",
        "computer_science_students = get_students_by_major(student_records, \"Computer Science\")\n",
        "\n",
        "average_grade_for_major = calculate_average_grade(computer_science_students)\n",
        "print(\"Average grade for Computer Science students : \" , average_grade_for_major)\n",
        "\n",
        "\n"
      ],
      "metadata": {
        "colab": {
          "base_uri": "https://localhost:8080/"
        },
        "id": "jS7MxBVdLS2h",
        "outputId": "d053ef9b-abdc-4d35-c1ac-aec263c36763"
      },
      "execution_count": 12,
      "outputs": [
        {
          "output_type": "stream",
          "name": "stdout",
          "text": [
            "Average grade for all students :  85.5\n",
            "Average grade for Computer Science students :  79.33333333333333\n"
          ]
        }
      ]
    }
  ]
}